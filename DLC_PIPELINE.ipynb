{
 "cells": [
  {
   "cell_type": "markdown",
   "id": "4b537473-7762-4058-99b1-6bb4ff96e955",
   "metadata": {},
   "source": [
    "# DLC_PIPELINE"
   ]
  },
  {
   "cell_type": "markdown",
   "id": "d350625f-9c3d-4a38-b3d7-dd09e8078e54",
   "metadata": {},
   "source": [
    "Created 03/24/25"
   ]
  },
  {
   "cell_type": "markdown",
   "id": "78583d80-a0b4-4911-8b86-6fe84599a957",
   "metadata": {},
   "source": [
    "## BACKGROUND"
   ]
  },
  {
   "cell_type": "markdown",
   "id": "e94883ed-cad3-4d5a-9fcf-75eaf2bd4d8b",
   "metadata": {},
   "source": [
    "This notebook interfaces with the Lake Lab DLC_FILTER_PIPELINE for testing purposes. It reads in a list of videos, and lets the user apply a preconfigured DLC pipeline to it along with custom filtering"
   ]
  },
  {
   "cell_type": "markdown",
   "id": "581ebf78-273e-4418-aa3e-bca9b1a11c52",
   "metadata": {},
   "source": [
    "# IMPORTS"
   ]
  },
  {
   "cell_type": "code",
   "id": "2132f8e8-69c7-45e9-a998-21057f919241",
   "metadata": {
    "ExecuteTime": {
     "end_time": "2025-04-29T18:34:37.807288Z",
     "start_time": "2025-04-29T18:34:36.672578Z"
    }
   },
   "source": [
    "import dlcfilterpipeline as dlp"
   ],
   "outputs": [],
   "execution_count": 1
  },
  {
   "cell_type": "markdown",
   "id": "a7acbfb0a07b644d",
   "metadata": {},
   "source": [
    "# PIPELINE"
   ]
  },
  {
   "metadata": {
    "ExecuteTime": {
     "end_time": "2025-04-29T18:35:15.112921Z",
     "start_time": "2025-04-29T18:35:15.107296Z"
    }
   },
   "cell_type": "code",
   "source": [
    "using_docker = False\n",
    "\n",
    "if using_docker:\n",
    "    import yaml\n",
    "    yaml_file_path = \"dlcfilterpipeline/config.yaml\"\n",
    "    with open(yaml_file_path, 'r') as file: data = yaml.safe_load(file)\n",
    "    data['project_path'] = '/opt/app/dlcfilterpipeline'\n",
    "    with open(yaml_file_path, 'w') as file: yaml.dump(data, file, default_flow_style=False)\n",
    "    dlc_venv_path = \"/opt/conda/bin/python\"\n",
    "else:\n",
    "    dlc_venv_path = \"/opt/anaconda3/envs/DEEPLABCUT/bin/python\"\n",
    "\n",
    "inputs = {'video':\"/opt/app/host/SPENCE_EXAMPLE/AVI/20240715_4154_01.avi\",\n",
    "          'kwargs':{\n",
    "            'defaultdir':\"/Users/paveyboys/Desktop/EXAMPLE/\",\n",
    "                    'save_files':True,\n",
    "                    'model_name':'DLC_Resnet50_Cropped_HiResMar14shuffle0_snapshot_190',\n",
    "                    'analyze_videos':True,\n",
    "                    'create_videos':True,\n",
    "                    'animate':False,\n",
    "                    'graph_video_frame_step': 1,\n",
    "                    'cluster_trim_percent':5,\n",
    "                    'dlc_venv_path':dlc_venv_path}}"
   ],
   "id": "c0219865f38dc352",
   "outputs": [],
   "execution_count": 4
  },
  {
   "metadata": {
    "jupyter": {
     "source_hidden": true
    },
    "ExecuteTime": {
     "end_time": "2025-04-29T18:35:23.597321Z",
     "start_time": "2025-04-29T18:35:16.899900Z"
    }
   },
   "cell_type": "code",
   "source": [
    "pipe = dlp.manager(inputs['video'],**inputs['kwargs'])\n",
    "pipe.batch_process()"
   ],
   "id": "35e81d7f-2172-4d0f-94b1-5c5ed43041d5",
   "outputs": [
    {
     "name": "stdout",
     "output_type": "stream",
     "text": [
      "Processing /opt/app/host/SPENCE_EXAMPLE/AVI/20240715_4154_01.avi\n",
      "Loading DLC 3.0.0rc6...\n",
      "DLC loaded in light mode; you cannot use any GUI (labeling, relabeling and standalone GUI)\n"
     ]
    },
    {
     "name": "stderr",
     "output_type": "stream",
     "text": [
      "Traceback (most recent call last):\n",
      "  File \"/Users/paveyboys/PycharmProjects/DLC_FILTER_PIPELINE/dlcfilterpipeline/dlc_analyze.py\", line 14, in <module>\n",
      "    files_before = set(os.listdir(video_dir))\n",
      "FileNotFoundError: [Errno 2] No such file or directory: '/opt/app/host/SPENCE_EXAMPLE/AVI'\n"
     ]
    },
    {
     "name": "stdout",
     "output_type": "stream",
     "text": [
      "CREATED MODEL NAME IS:  DLC_Resnet50_Cropped_HiResMar14shuffle0_snapshot_190\n",
      "model_name is already in the class as:  DLC_Resnet50_Cropped_HiResMar14shuffle0_snapshot_190\n",
      "Error reading HDF5 file:/opt/app/host/SPENCE_EXAMPLE/AVI/20240715_4154_01DLC_Resnet50_Cropped_HiResMar14shuffle0_snapshot_190 ERROR: File /opt/app/host/SPENCE_EXAMPLE/AVI/20240715_4154_01DLC_Resnet50_Cropped_HiResMar14shuffle0_snapshot_190.h5 does not exist\n"
     ]
    },
    {
     "ename": "AttributeError",
     "evalue": "'Manager' object has no attribute 'df'",
     "output_type": "error",
     "traceback": [
      "\u001B[0;31m---------------------------------------------------------------------------\u001B[0m",
      "\u001B[0;31mAttributeError\u001B[0m                            Traceback (most recent call last)",
      "Cell \u001B[0;32mIn[5], line 2\u001B[0m\n\u001B[1;32m      1\u001B[0m pipe \u001B[38;5;241m=\u001B[39m dlp\u001B[38;5;241m.\u001B[39mmanager(inputs[\u001B[38;5;124m'\u001B[39m\u001B[38;5;124mvideo\u001B[39m\u001B[38;5;124m'\u001B[39m],\u001B[38;5;241m*\u001B[39m\u001B[38;5;241m*\u001B[39minputs[\u001B[38;5;124m'\u001B[39m\u001B[38;5;124mkwargs\u001B[39m\u001B[38;5;124m'\u001B[39m])\n\u001B[0;32m----> 2\u001B[0m pipe\u001B[38;5;241m.\u001B[39mbatch_process()\n",
      "File \u001B[0;32m~/PycharmProjects/DLC_FILTER_PIPELINE/dlcfilterpipeline/manager.py:65\u001B[0m, in \u001B[0;36mManager.batch_process\u001B[0;34m(self)\u001B[0m\n\u001B[1;32m     63\u001B[0m \u001B[38;5;28;01mfor\u001B[39;00m i, path \u001B[38;5;129;01min\u001B[39;00m \u001B[38;5;28menumerate\u001B[39m(\u001B[38;5;28mself\u001B[39m\u001B[38;5;241m.\u001B[39mvideo_paths):\n\u001B[1;32m     64\u001B[0m     \u001B[38;5;28mprint\u001B[39m(\u001B[38;5;124mf\u001B[39m\u001B[38;5;124m\"\u001B[39m\u001B[38;5;124mProcessing \u001B[39m\u001B[38;5;132;01m{\u001B[39;00mpath\u001B[38;5;132;01m}\u001B[39;00m\u001B[38;5;124m\"\u001B[39m)\n\u001B[0;32m---> 65\u001B[0m     \u001B[38;5;28mself\u001B[39m\u001B[38;5;241m.\u001B[39msingle_process(path)\n\u001B[1;32m     66\u001B[0m     \u001B[38;5;28mprint\u001B[39m(\u001B[38;5;124mf\u001B[39m\u001B[38;5;124m\"\u001B[39m\u001B[38;5;124mFinished processing \u001B[39m\u001B[38;5;132;01m{\u001B[39;00mpath\u001B[38;5;132;01m}\u001B[39;00m\u001B[38;5;124m\"\u001B[39m)\n\u001B[1;32m     67\u001B[0m     \u001B[38;5;28mself\u001B[39m\u001B[38;5;241m.\u001B[39mfully_processed_list\u001B[38;5;241m.\u001B[39mappend(path)\n",
      "File \u001B[0;32m~/PycharmProjects/DLC_FILTER_PIPELINE/dlcfilterpipeline/manager.py:78\u001B[0m, in \u001B[0;36mManager.single_process\u001B[0;34m(self, path)\u001B[0m\n\u001B[1;32m     76\u001B[0m \u001B[38;5;28mself\u001B[39m\u001B[38;5;241m.\u001B[39mensure_model_name()\n\u001B[1;32m     77\u001B[0m \u001B[38;5;28mself\u001B[39m\u001B[38;5;241m.\u001B[39mload_h5()\n\u001B[0;32m---> 78\u001B[0m \u001B[38;5;28mself\u001B[39m\u001B[38;5;241m.\u001B[39mcustom_filter()\n\u001B[1;32m     79\u001B[0m \u001B[38;5;28mself\u001B[39m\u001B[38;5;241m.\u001B[39msave()\n\u001B[1;32m     80\u001B[0m \u001B[38;5;28mself\u001B[39m\u001B[38;5;241m.\u001B[39mdlc_create_videos()\n",
      "File \u001B[0;32m~/PycharmProjects/DLC_FILTER_PIPELINE/dlcfilterpipeline/manager.py:86\u001B[0m, in \u001B[0;36mManager.custom_filter\u001B[0;34m(self)\u001B[0m\n\u001B[1;32m     85\u001B[0m \u001B[38;5;28;01mdef\u001B[39;00m \u001B[38;5;21mcustom_filter\u001B[39m(\u001B[38;5;28mself\u001B[39m):\n\u001B[0;32m---> 86\u001B[0m     Multi_X \u001B[38;5;241m=\u001B[39m \u001B[38;5;28mself\u001B[39m\u001B[38;5;241m.\u001B[39minitialize_processed_df_numpy()\n\u001B[1;32m     88\u001B[0m     \u001B[38;5;28;01mfor\u001B[39;00m n \u001B[38;5;129;01min\u001B[39;00m \u001B[38;5;28mrange\u001B[39m((\u001B[38;5;28mlen\u001B[39m(\u001B[38;5;28mself\u001B[39m\u001B[38;5;241m.\u001B[39mbodyparts))):\n\u001B[1;32m     89\u001B[0m         \u001B[38;5;28mself\u001B[39m\u001B[38;5;241m.\u001B[39mfilter_a_limb(Multi_X,n)\n",
      "File \u001B[0;32m~/PycharmProjects/DLC_FILTER_PIPELINE/dlcfilterpipeline/manager.py:102\u001B[0m, in \u001B[0;36mManager.initialize_processed_df_numpy\u001B[0;34m(self)\u001B[0m\n\u001B[1;32m    100\u001B[0m \u001B[38;5;66;03m# PRINT INITIAL INFO\u001B[39;00m\n\u001B[1;32m    101\u001B[0m \u001B[38;5;28;01mif\u001B[39;00m \u001B[38;5;28mself\u001B[39m\u001B[38;5;241m.\u001B[39mverbose: \u001B[38;5;28mprint\u001B[39m(\u001B[38;5;124m\"\u001B[39m\u001B[38;5;124mInitial DataFrame:\u001B[39m\u001B[38;5;124m\"\u001B[39m, \u001B[38;5;28mself\u001B[39m\u001B[38;5;241m.\u001B[39mdf\u001B[38;5;241m.\u001B[39mhead())\n\u001B[0;32m--> 102\u001B[0m \u001B[38;5;28mprint\u001B[39m(\u001B[38;5;28mself\u001B[39m\u001B[38;5;241m.\u001B[39mdf\u001B[38;5;241m.\u001B[39mcolumns\u001B[38;5;241m.\u001B[39mnames)\n\u001B[1;32m    104\u001B[0m \u001B[38;5;66;03m# CREATE PROCESSED_DF\u001B[39;00m\n\u001B[1;32m    105\u001B[0m \u001B[38;5;28mself\u001B[39m\u001B[38;5;241m.\u001B[39mprocessed_df \u001B[38;5;241m=\u001B[39m \u001B[38;5;28mself\u001B[39m\u001B[38;5;241m.\u001B[39mdf\u001B[38;5;241m.\u001B[39mcopy()\n",
      "\u001B[0;31mAttributeError\u001B[0m: 'Manager' object has no attribute 'df'"
     ]
    }
   ],
   "execution_count": 5
  },
  {
   "cell_type": "code",
   "id": "87284708d1117813",
   "metadata": {},
   "source": [
    "#pipe.single_process(\"/Volumes/lake.s/Active/Shawn P/AAA. DEEPLABCUT/TEST20250303/20250303_4421_01.avi\")\n",
    "#pipe.batch_process()"
   ],
   "outputs": [],
   "execution_count": null
  },
  {
   "cell_type": "code",
   "id": "d6d8f7b257614501",
   "metadata": {},
   "source": "",
   "outputs": [],
   "execution_count": null
  },
  {
   "cell_type": "code",
   "id": "6ebe71e60ca925e9",
   "metadata": {},
   "source": [],
   "outputs": [],
   "execution_count": null
  },
  {
   "cell_type": "code",
   "id": "71673e6de43c2c26",
   "metadata": {},
   "source": [],
   "outputs": [],
   "execution_count": null
  }
 ],
 "metadata": {
  "kernelspec": {
   "display_name": "Python 3 (ipykernel)",
   "language": "python",
   "name": "python3"
  },
  "language_info": {
   "codemirror_mode": {
    "name": "ipython",
    "version": 3
   },
   "file_extension": ".py",
   "mimetype": "text/x-python",
   "name": "python",
   "nbconvert_exporter": "python",
   "pygments_lexer": "ipython3",
   "version": "3.12.10"
  }
 },
 "nbformat": 4,
 "nbformat_minor": 5
}
