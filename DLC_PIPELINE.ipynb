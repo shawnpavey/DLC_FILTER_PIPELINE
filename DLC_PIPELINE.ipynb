{
 "cells": [
  {
   "cell_type": "markdown",
   "id": "4b537473-7762-4058-99b1-6bb4ff96e955",
   "metadata": {},
   "source": [
    "# DLC_PIPELINE"
   ]
  },
  {
   "cell_type": "markdown",
   "id": "d350625f-9c3d-4a38-b3d7-dd09e8078e54",
   "metadata": {},
   "source": [
    "Created 03/24/25"
   ]
  },
  {
   "cell_type": "markdown",
   "id": "78583d80-a0b4-4911-8b86-6fe84599a957",
   "metadata": {},
   "source": [
    "## BACKGROUND"
   ]
  },
  {
   "cell_type": "markdown",
   "id": "e94883ed-cad3-4d5a-9fcf-75eaf2bd4d8b",
   "metadata": {},
   "source": [
    "This notebook interfaces with the Lake Lab DLC_FILTER_PIPELINE for testing purposes. It reads in a list of videos, and lets the user apply a preconfigured DLC pipeline to it along with custom filtering"
   ]
  },
  {
   "cell_type": "markdown",
   "id": "581ebf78-273e-4418-aa3e-bca9b1a11c52",
   "metadata": {},
   "source": [
    "# IMPORTS"
   ]
  },
  {
   "cell_type": "code",
   "id": "2132f8e8-69c7-45e9-a998-21057f919241",
   "metadata": {},
   "source": [
    "import dlcfilterpipeline as dlp"
   ],
   "outputs": [],
   "execution_count": null
  },
  {
   "cell_type": "markdown",
   "id": "a7acbfb0a07b644d",
   "metadata": {},
   "source": [
    "# PIPELINE"
   ]
  },
  {
   "metadata": {},
   "cell_type": "code",
   "source": [
    "using_docker = True\n",
    "if using_docker:\n",
    "    import yaml\n",
    "    yaml_file_path = \"dlcfilterpipeline/config.yaml\"\n",
    "    with open(yaml_file_path, 'r') as file: data = yaml.safe_load(file)\n",
    "    data['project_path'] = '/opt/app/dlcfilterpipeline'\n",
    "    with open(yaml_file_path, 'w') as file: yaml.dump(data, file, default_flow_style=False)\n",
    "    dlc_venv_path = \"/opt/conda/envs/DEEPLABCUT/bin/python\"\n",
    "else:\n",
    "    dlc_venv_path = \"/DEEPLABCUT/bin/python\""
   ],
   "id": "c0219865f38dc352",
   "outputs": [],
   "execution_count": null
  },
  {
   "metadata": {
    "jupyter": {
     "source_hidden": true
    }
   },
   "cell_type": "code",
   "source": [
    "pipe = dlp.manager(#\"/EXAMPLE/20250303_4421_01.avi\",\n",
    "                    defaultdir =\n",
    "                    \"/Users/paveyboys/Desktop/EXAMPLE/\",\n",
    "                    save_files=True,\n",
    "                    model_name='DLC_Resnet50_Cropped_HiResMar14shuffle0_snapshot_190',\n",
    "                    analyze_videos = True,\n",
    "                    create_videos = True,\n",
    "                    animate = False,\n",
    "                    graph_video_frame_step = 1,\n",
    "                    cluster_trim_percent = 5,\n",
    "                    dlc_venv_path = dlc_venv_path,\n",
    "                   )"
   ],
   "id": "35e81d7f-2172-4d0f-94b1-5c5ed43041d5",
   "outputs": [],
   "execution_count": null
  },
  {
   "cell_type": "code",
   "id": "87284708d1117813",
   "metadata": {},
   "source": [
    "#pipe.single_process(\"/Volumes/lake.s/Active/Shawn P/AAA. DEEPLABCUT/TEST20250303/20250303_4421_01.avi\")\n",
    "pipe.batch_process()"
   ],
   "outputs": [],
   "execution_count": null
  },
  {
   "cell_type": "code",
   "id": "d6d8f7b257614501",
   "metadata": {},
   "source": "",
   "outputs": [],
   "execution_count": null
  },
  {
   "cell_type": "code",
   "id": "6ebe71e60ca925e9",
   "metadata": {},
   "source": [],
   "outputs": [],
   "execution_count": null
  },
  {
   "cell_type": "code",
   "id": "71673e6de43c2c26",
   "metadata": {},
   "source": [],
   "outputs": [],
   "execution_count": null
  }
 ],
 "metadata": {
  "kernelspec": {
   "display_name": "Python 3 (ipykernel)",
   "language": "python",
   "name": "python3"
  },
  "language_info": {
   "codemirror_mode": {
    "name": "ipython",
    "version": 3
   },
   "file_extension": ".py",
   "mimetype": "text/x-python",
   "name": "python",
   "nbconvert_exporter": "python",
   "pygments_lexer": "ipython3",
   "version": "3.12.10"
  }
 },
 "nbformat": 4,
 "nbformat_minor": 5
}
