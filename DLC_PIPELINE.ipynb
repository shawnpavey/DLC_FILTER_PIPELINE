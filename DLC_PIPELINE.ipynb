{
 "cells": [
  {
   "cell_type": "markdown",
   "id": "4b537473-7762-4058-99b1-6bb4ff96e955",
   "metadata": {},
   "source": "# DLC_PIPELINE"
  },
  {
   "cell_type": "markdown",
   "id": "d350625f-9c3d-4a38-b3d7-dd09e8078e54",
   "metadata": {},
   "source": "Created 03/24/25"
  },
  {
   "cell_type": "markdown",
   "id": "78583d80-a0b4-4911-8b86-6fe84599a957",
   "metadata": {},
   "source": [
    "## BACKGROUND"
   ]
  },
  {
   "cell_type": "markdown",
   "id": "e94883ed-cad3-4d5a-9fcf-75eaf2bd4d8b",
   "metadata": {},
   "source": "This notebook interfaces with the Lake Lab DLC_FILTER_PIPELINE for testing purposes. It reads in a list of videos, and lets the user apply a preconfigured DLC pipeline to it along with custom filtering"
  },
  {
   "cell_type": "markdown",
   "id": "581ebf78-273e-4418-aa3e-bca9b1a11c52",
   "metadata": {},
   "source": [
    "# IMPORTS"
   ]
  },
  {
   "cell_type": "code",
   "id": "2132f8e8-69c7-45e9-a998-21057f919241",
   "metadata": {
    "ExecuteTime": {
     "end_time": "2025-03-24T18:07:57.058327Z",
     "start_time": "2025-03-24T18:07:55.809300Z"
    }
   },
   "source": "import dlcfilterpipeline as dlp",
   "outputs": [],
   "execution_count": 1
  },
  {
   "metadata": {},
   "cell_type": "markdown",
   "source": "# PIPELINE",
   "id": "a7acbfb0a07b644d"
  },
  {
   "metadata": {
    "jupyter": {
     "source_hidden": true
    },
    "ExecuteTime": {
     "end_time": "2025-03-24T18:07:57.063108Z",
     "start_time": "2025-03-24T18:07:57.061355Z"
    }
   },
   "cell_type": "code",
   "source": [
    "pipe = dlp.manager(\"/Volumes/lake.s/Active/Shawn P/AAA. DEEPLABCUT/TEST20250303/20250303_4421_01.avi\",\n",
    "                    defaultdir = \"/Volumes/lake.s/Active/Shawn P/AAA. DEEPLABCUT/TEST20250303/\",\n",
    "                    save_files=False,\n",
    "                    model_name='DLC_Resnet50_Cropped_HiResMar14shuffle1_snapshot_160',\n",
    "                    verbose=False\n",
    "                   )"
   ],
   "id": "35e81d7f-2172-4d0f-94b1-5c5ed43041d5",
   "outputs": [],
   "execution_count": 2
  },
  {
   "metadata": {
    "ExecuteTime": {
     "end_time": "2025-03-24T18:07:57.385712Z",
     "start_time": "2025-03-24T18:07:57.101838Z"
    }
   },
   "cell_type": "code",
   "source": "pipe.single_process(\"/Volumes/lake.s/Active/Shawn P/AAA. DEEPLABCUT/TEST20250303/20250303_4421_01.avi\")",
   "id": "87284708d1117813",
   "outputs": [
    {
     "name": "stdout",
     "output_type": "stream",
     "text": [
      "model_name is already in the class as:  DLC_Resnet50_Cropped_HiResMar14shuffle1_snapshot_160\n",
      "HDF5 file: /Volumes/lake.s/Active/Shawn P/AAA. DEEPLABCUT/TEST20250303/20250303_4421_01DLC_Resnet50_Cropped_HiResMar14shuffle1_snapshot_160.h5 successfully loaded.\n"
     ]
    },
    {
     "ename": "AttributeError",
     "evalue": "'Manager' object has no attribute 'custom_filter'",
     "output_type": "error",
     "traceback": [
      "\u001B[0;31m---------------------------------------------------------------------------\u001B[0m",
      "\u001B[0;31mAttributeError\u001B[0m                            Traceback (most recent call last)",
      "Cell \u001B[0;32mIn[3], line 1\u001B[0m\n\u001B[0;32m----> 1\u001B[0m pipe\u001B[38;5;241m.\u001B[39msingle_process(\u001B[38;5;124m\"\u001B[39m\u001B[38;5;124m/Volumes/lake.s/Active/Shawn P/AAA. DEEPLABCUT/TEST20250303/20250303_4421_01.avi\u001B[39m\u001B[38;5;124m\"\u001B[39m)\n",
      "File \u001B[0;32m~/PycharmProjects/DLC_FILTER_PIPELINE/dlcfilterpipeline/manager.py:80\u001B[0m, in \u001B[0;36mManager.single_process\u001B[0;34m(self, path)\u001B[0m\n\u001B[1;32m     78\u001B[0m \u001B[38;5;66;03m# FILTER H5\u001B[39;00m\n\u001B[1;32m     79\u001B[0m \u001B[38;5;28;01mif\u001B[39;00m \u001B[38;5;28mself\u001B[39m\u001B[38;5;241m.\u001B[39mverbose: \u001B[38;5;28mprint\u001B[39m(\u001B[38;5;124m\"\u001B[39m\u001B[38;5;124mInitial DataFrame:\u001B[39m\u001B[38;5;124m\"\u001B[39m, \u001B[38;5;28mself\u001B[39m\u001B[38;5;241m.\u001B[39mdf\u001B[38;5;241m.\u001B[39mhead())\n\u001B[0;32m---> 80\u001B[0m \u001B[38;5;28mself\u001B[39m\u001B[38;5;241m.\u001B[39mdf_processed \u001B[38;5;241m=\u001B[39m \u001B[38;5;28mself\u001B[39m\u001B[38;5;241m.\u001B[39mcustom_filter(\u001B[38;5;28mself\u001B[39m\u001B[38;5;241m.\u001B[39mdf, \u001B[38;5;28mself\u001B[39m\u001B[38;5;241m.\u001B[39mcurrent_path)\n\u001B[1;32m     81\u001B[0m \u001B[38;5;28;01mif\u001B[39;00m \u001B[38;5;28mself\u001B[39m\u001B[38;5;241m.\u001B[39mverbose: \u001B[38;5;28mprint\u001B[39m(\u001B[38;5;124m\"\u001B[39m\u001B[38;5;124mProcessed DataFrame:\u001B[39m\u001B[38;5;124m\"\u001B[39m, \u001B[38;5;28mself\u001B[39m\u001B[38;5;241m.\u001B[39mdf_processed\u001B[38;5;241m.\u001B[39mhead())\n\u001B[1;32m     83\u001B[0m \u001B[38;5;66;03m# SAVE FILES\u001B[39;00m\n",
      "\u001B[0;31mAttributeError\u001B[0m: 'Manager' object has no attribute 'custom_filter'"
     ]
    }
   ],
   "execution_count": 3
  },
  {
   "metadata": {
    "ExecuteTime": {
     "end_time": "2025-03-24T18:07:57.386985Z",
     "start_time": "2025-03-24T17:53:45.056993Z"
    }
   },
   "cell_type": "code",
   "source": "",
   "id": "d6d8f7b257614501",
   "outputs": [],
   "execution_count": null
  }
 ],
 "metadata": {
  "kernelspec": {
   "display_name": "Python 3 (ipykernel)",
   "language": "python",
   "name": "python3"
  },
  "language_info": {
   "codemirror_mode": {
    "name": "ipython",
    "version": 3
   },
   "file_extension": ".py",
   "mimetype": "text/x-python",
   "name": "python",
   "nbconvert_exporter": "python",
   "pygments_lexer": "ipython3",
   "version": "3.12.7"
  }
 },
 "nbformat": 4,
 "nbformat_minor": 5
}
